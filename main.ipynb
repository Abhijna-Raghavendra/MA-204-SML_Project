{
 "cells": [
  {
   "cell_type": "code",
   "execution_count": 122,
   "id": "122e7d49",
   "metadata": {},
   "outputs": [],
   "source": [
    "#Imports\n",
    "import pandas as pd\n",
    "from sklearn.tree import DecisionTreeClassifier\n",
    "from sklearn.naive_bayes import GaussianNB\n",
    "from sklearn.svm import SVC\n",
    "from sklearn.linear_model import LogisticRegression\n",
    "from sklearn import preprocessing\n",
    "from sklearn.metrics import accuracy_score"
   ]
  },
  {
   "cell_type": "code",
   "execution_count": 123,
   "id": "4cc28798",
   "metadata": {},
   "outputs": [],
   "source": [
    "#Load the testing and training data\n",
    "df_test = pd.read_csv('data/Testing.csv')\n",
    "df_train = pd.read_csv('Training.csv')"
   ]
  },
  {
   "cell_type": "code",
   "execution_count": 124,
   "id": "ff983609",
   "metadata": {},
   "outputs": [],
   "source": [
    "#Load the label encoder\n",
    "le = preprocessing.LabelEncoder()"
   ]
  },
  {
   "cell_type": "code",
   "execution_count": 125,
   "id": "6a71e43f",
   "metadata": {},
   "outputs": [],
   "source": [
    "#Determine features and target of training and testing data\n",
    "X_train = df_train.iloc[:,0:131]\n",
    "x_test = df_test.iloc[:,0:131]\n",
    "y_train_labelled = df_train.iloc[:,132]\n",
    "Y_test_labelled = df_test.iloc[:,132]"
   ]
  },
  {
   "cell_type": "code",
   "execution_count": 126,
   "id": "67d948ba",
   "metadata": {},
   "outputs": [],
   "source": [
    "#Encode labels\n",
    "y_train = le.fit_transform(y_train_labelled)\n",
    "Y_test = le.fit_transform(Y_test_labelled)"
   ]
  },
  {
   "cell_type": "code",
   "execution_count": 127,
   "id": "4b358ba0",
   "metadata": {},
   "outputs": [
    {
     "name": "stdout",
     "output_type": "stream",
     "text": [
      "Accuracy Score of Decision tree Classifier : 97.61904761904762%\n"
     ]
    }
   ],
   "source": [
    "#Decision Tree Classifier\n",
    "model_DT = DecisionTreeClassifier(max_leaf_nodes=42, class_weight='balanced')\n",
    "model_DT.fit(X_train,y_train)\n",
    "print(\"Accuracy Score of Decision tree Classifier : \"+str(accuracy_score(Y_test, model_DT.predict(x_test))*100)+\"%\")"
   ]
  },
  {
   "cell_type": "code",
   "execution_count": 128,
   "id": "37537a58",
   "metadata": {},
   "outputs": [
    {
     "name": "stdout",
     "output_type": "stream",
     "text": [
      "Accuracy Score of Naive Bayes Classifier : 100.0%\n"
     ]
    }
   ],
   "source": [
    "#Naive Bayes Classifier\n",
    "model_NB = GaussianNB()\n",
    "model_NB.fit(X_train,y_train)\n",
    "print(\"Accuracy Score of Naive Bayes Classifier : \"+str(accuracy_score(Y_test, model_NB.predict(x_test))*100)+\"%\")"
   ]
  },
  {
   "cell_type": "code",
   "execution_count": 129,
   "id": "225f919c",
   "metadata": {},
   "outputs": [
    {
     "name": "stdout",
     "output_type": "stream",
     "text": [
      "Accuracy Score of Support Vector Classifier : 100.0%\n"
     ]
    }
   ],
   "source": [
    "#Support Vector Classifier\n",
    "model_SVC = SVC(kernel='linear', C=1)\n",
    "model_SVC.fit(X_train,y_train)\n",
    "print(\"Accuracy Score of Support Vector Classifier : \"+str(accuracy_score(Y_test, model_SVC.predict(x_test))*100)+\"%\")"
   ]
  },
  {
   "cell_type": "code",
   "execution_count": 130,
   "id": "26be5308",
   "metadata": {},
   "outputs": [
    {
     "name": "stdout",
     "output_type": "stream",
     "text": [
      "Accuracy Score of Softmax Classifier : 97.61904761904762%\n"
     ]
    }
   ],
   "source": [
    "#Softmax Classifier\n",
    "model_SM = LogisticRegression(random_state=0, multi_class='multinomial')\n",
    "model_SM.fit(X_train,y_train)\n",
    "print(\"Accuracy Score of Softmax Classifier : \"+str(accuracy_score(Y_test, model_SM.predict(x_test))*100)+\"%\")"
   ]
  },
  {
   "cell_type": "code",
   "execution_count": null,
   "id": "5a50cd35",
   "metadata": {},
   "outputs": [],
   "source": []
  }
 ],
 "metadata": {
  "kernelspec": {
   "display_name": "Python 3 (ipykernel)",
   "language": "python",
   "name": "python3"
  },
  "language_info": {
   "codemirror_mode": {
    "name": "ipython",
    "version": 3
   },
   "file_extension": ".py",
   "mimetype": "text/x-python",
   "name": "python",
   "nbconvert_exporter": "python",
   "pygments_lexer": "ipython3",
   "version": "3.9.13"
  }
 },
 "nbformat": 4,
 "nbformat_minor": 5
}
